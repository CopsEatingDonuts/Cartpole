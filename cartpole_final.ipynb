{
  "cells": [
    {
      "cell_type": "markdown",
      "metadata": {
        "id": "ZauhjPSfX7pI"
      },
      "source": [
        "# Developing a Q-Learning Agent to play Cartpole"
      ]
    },
    {
      "cell_type": "markdown",
      "source": [
        "Note: This notebook was written on Google Colab. \n",
        "We recommend using Google Colab to run the codes to avoid any errors:\n",
        "\n",
        "[![Open in colab](https://colab.research.google.com/assets/colab-badge.svg)](https://colab.research.google.com/github/CopsEatingDonuts/Cartpole/blob/main/cartpole_final.ipynb)\n",
        "\n"
      ],
      "metadata": {
        "id": "aabnxkRi5nGY"
      }
    },
    {
      "cell_type": "markdown",
      "source": [
        "#Contributors:\n",
        "\n",
        "*   Jiang Yunjun: Design and implementation of discretisation mechanism, Q-Table and StateCheck function and relevant documentation\n",
        "\n",
        "\n",
        "\n",
        "*   Tan Pat Guan: Design, implementation and optimisation of Q-Learning algorithm and relevant documentation\n",
        "\n",
        "*   Work was split 50-50"
      ],
      "metadata": {
        "id": "LJGh5zdp55Tx"
      }
    },
    {
      "cell_type": "markdown",
      "metadata": {
        "id": "UBiYOoesYMvr"
      },
      "source": [
        "Installing dependencies:"
      ]
    },
    {
      "cell_type": "code",
      "execution_count": 1,
      "metadata": {
        "colab": {
          "base_uri": "https://localhost:8080/"
        },
        "id": "PbgnVwZmX5uW",
        "outputId": "aaf0b829-2ae2-4ee8-913d-8b00de417c3a"
      },
      "outputs": [
        {
          "output_type": "stream",
          "name": "stdout",
          "text": [
            "Looking in indexes: https://pypi.org/simple, https://us-python.pkg.dev/colab-wheels/public/simple/\n",
            "Requirement already satisfied: gym[classic_control] in /usr/local/lib/python3.9/dist-packages (0.25.2)\n",
            "Requirement already satisfied: numpy>=1.18.0 in /usr/local/lib/python3.9/dist-packages (from gym[classic_control]) (1.22.4)\n",
            "Requirement already satisfied: importlib-metadata>=4.8.0 in /usr/local/lib/python3.9/dist-packages (from gym[classic_control]) (6.1.0)\n",
            "Requirement already satisfied: cloudpickle>=1.2.0 in /usr/local/lib/python3.9/dist-packages (from gym[classic_control]) (2.2.1)\n",
            "Requirement already satisfied: gym-notices>=0.0.4 in /usr/local/lib/python3.9/dist-packages (from gym[classic_control]) (0.0.8)\n",
            "Requirement already satisfied: pygame==2.1.0 in /usr/local/lib/python3.9/dist-packages (from gym[classic_control]) (2.1.0)\n",
            "Requirement already satisfied: zipp>=0.5 in /usr/local/lib/python3.9/dist-packages (from importlib-metadata>=4.8.0->gym[classic_control]) (3.15.0)\n",
            "Looking in indexes: https://pypi.org/simple, https://us-python.pkg.dev/colab-wheels/public/simple/\n",
            "Requirement already satisfied: setuptools in /usr/local/lib/python3.9/dist-packages (67.6.1)\n"
          ]
        }
      ],
      "source": [
        "!apt-get install -y xvfb python-opengl > /dev/null 2>&1\n",
        "!pip install gym pyvirtualdisplay > /dev/null 2>&1\n",
        "!pip install gym pyvirtualdisplay > /dev/null 2>&1\n",
        "!apt-get install -y xvfb python-opengl ffmpeg > /dev/null 2>&1\n",
        "!pip install gym[classic_control]\n",
        "!apt-get update > /dev/null 2>&1\n",
        "!apt-get install cmake > /dev/null 2>&1\n",
        "!pip install --upgrade setuptools 2>&1\n",
        "!pip install ez_setup > /dev/null 2>&1"
      ]
    },
    {
      "cell_type": "markdown",
      "metadata": {
        "id": "RwKbYeTgbaTA"
      },
      "source": [
        "Importing dependencies and define helper functions"
      ]
    },
    {
      "cell_type": "code",
      "execution_count": 2,
      "metadata": {
        "id": "j6KpgCLGYWmj"
      },
      "outputs": [],
      "source": [
        "import gym\n",
        "from gym import logger as gymlogger\n",
        "from gym.wrappers import RecordVideo\n",
        "gymlogger.set_level(40) #error only\n",
        "import tensorflow as tf\n",
        "import numpy as np\n",
        "import random\n",
        "import matplotlib\n",
        "import matplotlib.pyplot as plt\n",
        "%matplotlib inline\n",
        "import math\n",
        "import glob\n",
        "import io\n",
        "import base64\n",
        "from IPython.display import HTML\n",
        "from IPython import display as ipythondisplay\n",
        "\n",
        "def show_video():\n",
        "    mp4list = glob.glob('video/*.mp4')\n",
        "    if len(mp4list) > 0:\n",
        "        mp4 = mp4list[0]\n",
        "        video = io.open(mp4, 'r+b').read()\n",
        "        encoded = base64.b64encode(video)\n",
        "        ipythondisplay.display(HTML(data='''<video alt=\"test\" autoplay \n",
        "                    loop controls style=\"height: 400px;\">\n",
        "                    <source src=\"data:video/mp4;base64,{0}\" type=\"video/mp4\" />\n",
        "                    </video>'''.format(encoded.decode('ascii'))))\n",
        "    else: \n",
        "        print(\"Could not find video\")"
      ]
    },
    {
      "cell_type": "code",
      "execution_count": 3,
      "metadata": {
        "id": "Go12dH4qbwBy",
        "colab": {
          "base_uri": "https://localhost:8080/"
        },
        "outputId": "b749db79-6652-4d42-d91a-c6ca2b15a4b4"
      },
      "outputs": [
        {
          "output_type": "stream",
          "name": "stderr",
          "text": [
            "/usr/local/lib/python3.9/dist-packages/ipykernel/ipkernel.py:283: DeprecationWarning: `should_run_async` will not call `transform_cell` automatically in the future. Please pass the result to `transformed_cell` argument and any exception that happen during thetransform in `preprocessing_exc_tuple` in IPython 7.17 and above.\n",
            "  and should_run_async(code)\n"
          ]
        }
      ],
      "source": [
        "env = gym.make(\"CartPole-v1\")"
      ]
    },
    {
      "cell_type": "markdown",
      "metadata": {
        "id": "2oIzK9SzhlWN"
      },
      "source": [
        "#Task 1: Development of an RL agent using Q-Learning"
      ]
    },
    {
      "cell_type": "markdown",
      "metadata": {
        "id": "wwcggrOT7ckM"
      },
      "source": [
        "We can develop an RL agent using the q-learning algorithm."
      ]
    },
    {
      "cell_type": "markdown",
      "source": [
        "##Implementation of Q-Table and discretisation of state\n",
        "\n"
      ],
      "metadata": {
        "id": "FVTDJVx0Wuek"
      }
    },
    {
      "cell_type": "markdown",
      "metadata": {
        "id": "qOwUogo88TMM"
      },
      "source": [
        "In Q learning, we first have to define the possible states of the environment with a Q table.\n",
        "We initialise the q table with zeroes, 30 bins each for cart position & velocity, 50 bins each for pole position & pole angular velocity to classify each state. This allows for 2.25 million possible states for the agent to explore.\n",
        "\n",
        "Each corresponding state holds 2 values which represents the Q score for each action following this state.\n"
      ]
    },
    {
      "cell_type": "code",
      "execution_count": 4,
      "metadata": {
        "id": "0OxBMxlS8ehz"
      },
      "outputs": [],
      "source": [
        "#observation space min [-4.8000002e+00, -3.4028235e+38, -4.1887903e-01, -3.4028235e+38]\n",
        "#observation space max [4.8000002e+00, 3.4028235e+38, 4.1887903e-01, 3.4028235e+38]\n",
        "def QTable():\n",
        "\n",
        "    qTable = np.zeros(shape=([30, 30, 50, 50] + [2])) #bins and q score table\n",
        "    \n",
        "    return qTable"
      ]
    },
    {
      "cell_type": "markdown",
      "metadata": {
        "id": "qIkT1-K6SQdL"
      },
      "source": [
        "With our Q table defined, we are able to check for the action in the table given an observation. However, as Q table is defined and accessed by discrete states, we need to discretise the continuous range of the 4 environment vairables. We design the function checkState() to achieve this, where a transformation is applied by first scaling and then adding a constant. "
      ]
    },
    {
      "cell_type": "code",
      "execution_count": 5,
      "metadata": {
        "id": "e5Q9VAdQbNh-"
      },
      "outputs": [],
      "source": [
        "def checkState(state):\n",
        "    discrete_state = state*np.array([4, 4, 100, 10])+ np.array([15,10,1,10]) #apply scaling factor and then vertical translation\n",
        "    return tuple(discrete_state.astype(int)) #convert into integer"
      ]
    },
    {
      "cell_type": "markdown",
      "source": [
        "##Q-Learning Algorithm"
      ],
      "metadata": {
        "id": "kC4TJsO4W752"
      }
    },
    {
      "cell_type": "markdown",
      "metadata": {
        "id": "SSSlH536SjuR"
      },
      "source": [
        "With state checking and Q-Table, we can implement the Q-Learning algorithm. \n",
        "\n",
        "We implemented an epsilon-decay mechanism to encourage the agent to follow the learned policy as the number of episodes increases. Before 10000 episodes, epsilon is maintained at 1 for the agent to explore as many states as possible. \n",
        "\n",
        "Epsilon is then decreased every episode by a factor of 0.99, so that the agent will more likely choose the greedy action that will improve its cumulative reward. A minimum epsilon = 0.01 was set to still allow a very small amount of exploration towards the end of training. \n",
        "\n",
        "This is an improvement over the original epsilon-greedy Q-learning algorithm, as the agent is encouraged to choose its learned policy over random actions when it is sufficiently trained. "
      ]
    },
    {
      "cell_type": "code",
      "execution_count": 12,
      "metadata": {
        "colab": {
          "base_uri": "https://localhost:8080/"
        },
        "id": "BQInA1oOSF8M",
        "outputId": "cd840600-8bf3-4685-d311-3d6b4eeb13e8"
      },
      "outputs": [
        {
          "output_type": "stream",
          "name": "stdout",
          "text": [
            "episode number: 5000\n",
            "mean reward: 21.1598\n",
            "\n",
            "\n",
            "episode number: 10000\n",
            "mean reward: 21.3412\n",
            "\n",
            "\n",
            "episode number: 15000\n",
            "mean reward: 167.0604\n",
            "\n",
            "\n",
            "episode number: 20000\n",
            "mean reward: 166.3744\n",
            "\n",
            "\n",
            "episode number: 25000\n",
            "mean reward: 183.1852\n",
            "\n",
            "\n",
            "episode number: 30000\n",
            "mean reward: 200.6476\n",
            "\n",
            "\n",
            "episode number: 35000\n",
            "mean reward: 203.6148\n",
            "\n",
            "\n",
            "episode number: 40000\n",
            "mean reward: 200.0048\n",
            "\n",
            "\n",
            "episode number: 45000\n",
            "mean reward: 239.2172\n",
            "\n",
            "\n",
            "episode number: 50000\n",
            "mean reward: 259.529\n",
            "\n",
            "\n",
            "episode number: 55000\n",
            "mean reward: 272.886\n",
            "\n",
            "\n",
            "episode number: 60000\n",
            "mean reward: 314.598\n",
            "\n",
            "\n"
          ]
        }
      ],
      "source": [
        "qTable = QTable() #initialise qtable\n",
        "\n",
        "alpha = 0.15 #learning rate\n",
        "discount = 0.95\n",
        "epsilon = 1\n",
        "epsilonDecayRate = 0.99\n",
        "\n",
        "countHist = [] #track learning progress\n",
        "totalReward = 0\n",
        "priorReward = 0\n",
        "\n",
        "for i in range (1, 60001): #number of episodes\n",
        "    thisState = checkState(env.reset()[0]) #initial state\n",
        "    ended = False \n",
        "    step = 0\n",
        "    episodeReward = 0\n",
        "\n",
        "    while not ended:\n",
        "        step += 1\n",
        "        if np.random.random() > epsilon:\n",
        "            action = np.argmax(qTable[thisState]) #get the greedy action\n",
        "    \n",
        "        else:\n",
        "            action = np.random.randint(0,2) #explore random action\n",
        "\n",
        "        newState, reward, ended, dummy = env.step(action) #take the action\n",
        "\n",
        "        newDiscState = checkState(newState) #get the new state's discrete version\n",
        "\n",
        "        if not ended:\n",
        "            episodeReward += 1\n",
        "            futureQ = np.max(qTable[newDiscState]) #est future Q value\n",
        "            curQ = qTable[thisState + (action, )] #current Q value\n",
        "            newQ = (1-alpha) * curQ + alpha * (reward + discount * futureQ) #calculate new Q\n",
        "            qTable[thisState + (action, )] = newQ #update Q table with new Q value \n",
        "   \n",
        " \n",
        "        thisState = newDiscState #update state\n",
        " \n",
        " \n",
        "\n",
        "    if epsilon > 0.05: #epsilon decay modification \n",
        "        if episodeReward > priorReward and i > 10000:\n",
        "            epsilon = epsilon * epsilonDecayRate\n",
        " \n",
        "    else: epsilon = 0.05 #minimum epsilon to maintain some exploration \n",
        " \n",
        "    totalReward += episodeReward\n",
        "    priorReward = episodeReward\n",
        "\n",
        "\n",
        "    if i%5000==0: #check learning progress every 5k episodes\n",
        "        print(\"episode number: \" + str(i))\n",
        "        print(\"mean reward: \" + str(totalReward/5000))\n",
        "        print(\"\\n\")\n",
        "        totalReward = 0\n"
      ]
    },
    {
      "cell_type": "markdown",
      "source": [
        "##Demonstration of correctness"
      ],
      "metadata": {
        "id": "t0q8A9MMEBmg"
      }
    },
    {
      "cell_type": "markdown",
      "source": [
        "To show our implementation is correct, we will sample a random state from the environment for the agent to act on."
      ],
      "metadata": {
        "id": "HW10oZwPEGv8"
      }
    },
    {
      "cell_type": "code",
      "source": [
        "sampleState = env.reset()\n",
        "print(\"The sample state: \" + str(sampleState))\n",
        "sampleDiscrete = checkState(sampleState)\n",
        "action = np.argmax(qTable[sampleDiscrete])\n",
        "print(\"Agent's chosen action: \" + str(action))\n"
      ],
      "metadata": {
        "colab": {
          "base_uri": "https://localhost:8080/"
        },
        "id": "Oofw3s1-EZUj",
        "outputId": "ebfe8403-a0f7-4cdf-fcd6-6635080113ce"
      },
      "execution_count": 13,
      "outputs": [
        {
          "output_type": "stream",
          "name": "stdout",
          "text": [
            "The sample state: [ 0.03273415 -0.02246422  0.00618143 -0.00281598]\n",
            "Agent's chosen action: 0\n"
          ]
        }
      ]
    },
    {
      "cell_type": "markdown",
      "metadata": {
        "id": "-XtIQ0Rti1gm"
      },
      "source": [
        "#Task 2: Demonstrate the effectiveness of the RL agent"
      ]
    },
    {
      "cell_type": "markdown",
      "metadata": {
        "id": "djBEShf0kGI4"
      },
      "source": [
        "For this task, we use the agent developed in Task 1 to play the game for 100 episodes, record and plot the cumulative reward for each round."
      ]
    },
    {
      "cell_type": "code",
      "execution_count": 14,
      "metadata": {
        "colab": {
          "base_uri": "https://localhost:8080/"
        },
        "id": "9bUZCnAYkj06",
        "outputId": "30fd0494-312c-4c18-9e8e-80216bc7cf06"
      },
      "outputs": [
        {
          "output_type": "stream",
          "name": "stdout",
          "text": [
            "[500, 248, 411, 500, 500, 423, 226, 500, 500, 252, 473, 500, 500, 500, 286, 266, 500, 271, 367, 500, 239, 452, 500, 500, 500, 254, 406, 358, 500, 500, 500, 500, 500, 208, 500, 235, 399, 236, 500, 279, 500, 500, 500, 500, 500, 231, 434, 233, 500, 500, 500, 424, 500, 214, 500, 500, 358, 352, 500, 500, 500, 325, 500, 500, 500, 500, 500, 426, 500, 500, 500, 500, 500, 500, 500, 500, 500, 228, 500, 500, 240, 500, 500, 500, 245, 500, 226, 500, 139, 391, 500, 251, 500, 500, 500, 500, 212, 500, 500, 274]\n"
          ]
        }
      ],
      "source": [
        "episodeHist = []\n",
        "\n",
        "for i in range(0,100):\n",
        "    state = env.reset()[0]\n",
        "    count = 0\n",
        "    done = False\n",
        "    cumulativeReward = 0\n",
        "\n",
        "    while not done: #our agent here\n",
        "        cumulativeReward += 1\n",
        "        discState = checkState(state)\n",
        "        action = np.argmax(qTable[discState])\n",
        "        state, reward, done, dummy = env.step(action)\n",
        "  \n",
        "    episodeHist.append(cumulativeReward) \n",
        "\n",
        "print(episodeHist) #record performance history"
      ]
    },
    {
      "cell_type": "markdown",
      "source": [
        "##Graph plot of performance over 100 rounds"
      ],
      "metadata": {
        "id": "G7B80nbmJqy9"
      }
    },
    {
      "cell_type": "code",
      "execution_count": 15,
      "metadata": {
        "colab": {
          "base_uri": "https://localhost:8080/",
          "height": 472
        },
        "id": "RZrCKywQi6CE",
        "outputId": "29b7e8d5-5258-4549-9d11-5b505fc56f3b"
      },
      "outputs": [
        {
          "output_type": "display_data",
          "data": {
            "text/plain": [
              "<Figure size 640x480 with 1 Axes>"
            ],
            "image/png": "[encoded data removed]"
          },
          "metadata": {}
        }
      ],
      "source": [
        "episode_results = episodeHist\n",
        "plt.plot(episode_results)\n",
        "plt.title('Cumulative reward for each episode')\n",
        "plt.ylabel('Cumulative reward')\n",
        "plt.xlabel('episode')\n",
        "plt.show()"
      ]
    },
    {
      "cell_type": "markdown",
      "metadata": {
        "id": "XndSYH7wlvn7"
      },
      "source": [
        "Print the average reward over the 100 episodes."
      ]
    },
    {
      "cell_type": "code",
      "execution_count": 16,
      "metadata": {
        "colab": {
          "base_uri": "https://localhost:8080/"
        },
        "id": "pOiOp9OYlo5Y",
        "outputId": "7fee20d3-a971-411b-ff4a-33527932a8f3"
      },
      "outputs": [
        {
          "output_type": "stream",
          "name": "stdout",
          "text": [
            "Average cumulative reward: 424.92\n",
            "Is my agent good enough? True\n",
            "Episodes with Reward > 195:  99\n"
          ]
        }
      ],
      "source": [
        "resultsArray = np.array(episode_results)\n",
        "count = resultsArray > 195\n",
        "\n",
        "print(\"Average cumulative reward:\", resultsArray.mean())\n",
        "print(\"Is my agent good enough?\", resultsArray.mean() > 195)\n",
        "print(\"Episodes with Reward > 195: \", len(resultsArray[count]))\n"
      ]
    },
    {
      "cell_type": "markdown",
      "metadata": {
        "id": "Yg0DCT38lFA6"
      },
      "source": [
        "#Task 3: Render one episode played by the agent"
      ]
    },
    {
      "cell_type": "markdown",
      "source": [
        "We can now view our agent in action: keeping the pole upright!"
      ],
      "metadata": {
        "id": "k2l4GpK2J8Hi"
      }
    },
    {
      "cell_type": "code",
      "execution_count": 17,
      "metadata": {
        "colab": {
          "base_uri": "https://localhost:8080/",
          "height": 439
        },
        "id": "LYyavfbIa47D",
        "outputId": "96d41296-c489-498b-c376-6cce034fa4a6"
      },
      "outputs": [
        {
          "output_type": "display_data",
          "data": {
            "text/plain": [
              "<IPython.core.display.HTML object>"
            ],
            "text/html": [
              "<video alt=\"test\" autoplay \n",
              "                    loop controls style=\"height: 400px;\">\n",
              "                    <source src=\"data:video/mp4;base64,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\" type=\"video/mp4\" />\n",
              "                    </video>"
            ]
          },
          "metadata": {}
        },
        {
          "output_type": "stream",
          "name": "stdout",
          "text": [
            "Reward for this round:500\n"
          ]
        }
      ],
      "source": [
        "env = RecordVideo(gym.make(\"CartPole-v1\"), \"./video\")\n",
        "observation = env.reset()[0]\n",
        "cumulativeReward = 0\n",
        "while True:\n",
        "    env.render()\n",
        "    discState = checkState(observation)\n",
        "    action = np.argmax(qTable[discState])\n",
        "    observation, reward, done, info = env.step(action)\n",
        "    cumulativeReward += 1\n",
        "    if done: \n",
        "        break;    \n",
        "env.close()\n",
        "show_video()\n",
        "print(\"Reward for this round:\" + str(cumulativeReward))"
      ]
    },
    {
      "cell_type": "code",
      "source": [],
      "metadata": {
        "id": "PbcA7p9e1Vmb"
      },
      "execution_count": null,
      "outputs": []
    }
  ],
  "metadata": {
    "colab": {
      "provenance": [],
      "toc_visible": true
    },
    "kernelspec": {
      "display_name": "Python 3",
      "language": "python",
      "name": "python3"
    },
    "language_info": {
      "codemirror_mode": {
        "name": "ipython",
        "version": 3
      },
      "file_extension": ".py",
      "mimetype": "text/x-python",
      "name": "python",
      "nbconvert_exporter": "python",
      "pygments_lexer": "ipython3",
      "version": "3.8.8"
    }
  },
  "nbformat": 4,
  "nbformat_minor": 0
}