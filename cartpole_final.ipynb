{
  "cells": [
    {
      "cell_type": "markdown",
      "metadata": {
        "id": "view-in-github",
        "colab_type": "text"
      },
      "source": [
        "<a href=\"https://colab.research.google.com/github/CopsEatingDonuts/Cartpole/blob/main/cartpole_final.ipynb\" target=\"_parent\"><img src=\"https://colab.research.google.com/assets/colab-badge.svg\" alt=\"Open In Colab\"/></a>"
      ]
    },
    {
      "cell_type": "markdown",
      "metadata": {
        "id": "ZauhjPSfX7pI"
      },
      "source": [
        "# Developing a Q-Learning Agent to play Cartpole"
      ]
    },
    {
      "cell_type": "markdown",
      "source": [
        "Note: This notebook was written on Google Colab. \n",
        "We recommend using Google Colab to run the codes to avoid any errors.\n",
        "\n"
      ],
      "metadata": {
        "id": "aabnxkRi5nGY"
      }
    },
    {
      "cell_type": "markdown",
      "source": [
        "[![Open in colab](https://colab.research.google.com/assets/colab-badge.svg)]()"
      ],
      "metadata": {
        "id": "1iDP4w14F6-R"
      }
    },
    {
      "cell_type": "markdown",
      "source": [
        "#Contributors:\n",
        "\n",
        "*   Jiang Yunjun: Design and implementation of discretisation mechanism, Q-Table and StateCheck function and relevant documentation\n",
        "\n",
        "\n",
        "\n",
        "*   Tan Pat Guan: Design, implementation and optimisation of Q-Learning algorithm and relevant documentation\n",
        "\n",
        "*   Work was split 50-50"
      ],
      "metadata": {
        "id": "LJGh5zdp55Tx"
      }
    },
    {
      "cell_type": "markdown",
      "metadata": {
        "id": "UBiYOoesYMvr"
      },
      "source": [
        "## Installing dependencies:"
      ]
    },
    {
      "cell_type": "code",
      "execution_count": 1,
      "metadata": {
        "colab": {
          "base_uri": "https://localhost:8080/"
        },
        "id": "PbgnVwZmX5uW",
        "outputId": "627a8a83-92ba-466c-d4ac-dc78e0c54b8f"
      },
      "outputs": [
        {
          "output_type": "stream",
          "name": "stdout",
          "text": [
            "Looking in indexes: https://pypi.org/simple, https://us-python.pkg.dev/colab-wheels/public/simple/\n",
            "Requirement already satisfied: gym[classic_control] in /usr/local/lib/python3.9/dist-packages (0.25.2)\n",
            "Requirement already satisfied: numpy>=1.18.0 in /usr/local/lib/python3.9/dist-packages (from gym[classic_control]) (1.22.4)\n",
            "Requirement already satisfied: gym-notices>=0.0.4 in /usr/local/lib/python3.9/dist-packages (from gym[classic_control]) (0.0.8)\n",
            "Requirement already satisfied: importlib-metadata>=4.8.0 in /usr/local/lib/python3.9/dist-packages (from gym[classic_control]) (6.1.0)\n",
            "Requirement already satisfied: cloudpickle>=1.2.0 in /usr/local/lib/python3.9/dist-packages (from gym[classic_control]) (2.2.1)\n",
            "Requirement already satisfied: pygame==2.1.0 in /usr/local/lib/python3.9/dist-packages (from gym[classic_control]) (2.1.0)\n",
            "Requirement already satisfied: zipp>=0.5 in /usr/local/lib/python3.9/dist-packages (from importlib-metadata>=4.8.0->gym[classic_control]) (3.15.0)\n",
            "Looking in indexes: https://pypi.org/simple, https://us-python.pkg.dev/colab-wheels/public/simple/\n",
            "Requirement already satisfied: setuptools in /usr/local/lib/python3.9/dist-packages (67.6.1)\n"
          ]
        }
      ],
      "source": [
        "!apt-get install -y xvfb python-opengl > /dev/null 2>&1\n",
        "!pip install gym pyvirtualdisplay > /dev/null 2>&1\n",
        "!pip install gym pyvirtualdisplay > /dev/null 2>&1\n",
        "!apt-get install -y xvfb python-opengl ffmpeg > /dev/null 2>&1\n",
        "!pip install gym[classic_control]\n",
        "!apt-get update > /dev/null 2>&1\n",
        "!apt-get install cmake > /dev/null 2>&1\n",
        "!pip install --upgrade setuptools 2>&1\n",
        "!pip install ez_setup > /dev/null 2>&1"
      ]
    },
    {
      "cell_type": "markdown",
      "metadata": {
        "id": "RwKbYeTgbaTA"
      },
      "source": [
        "## Importing dependencies and define helper functions"
      ]
    },
    {
      "cell_type": "code",
      "execution_count": 2,
      "metadata": {
        "id": "j6KpgCLGYWmj"
      },
      "outputs": [],
      "source": [
        "import gym\n",
        "from gym import logger as gymlogger\n",
        "from gym.wrappers import RecordVideo\n",
        "gymlogger.set_level(40) #error only\n",
        "import tensorflow as tf\n",
        "import numpy as np\n",
        "import random\n",
        "import matplotlib\n",
        "import matplotlib.pyplot as plt\n",
        "%matplotlib inline\n",
        "import math\n",
        "import glob\n",
        "import io\n",
        "import base64\n",
        "from IPython.display import HTML\n",
        "from IPython import display as ipythondisplay\n",
        "\n",
        "def show_video():\n",
        "    mp4list = glob.glob('video/*.mp4')\n",
        "    if len(mp4list) > 0:\n",
        "        mp4 = mp4list[0]\n",
        "        video = io.open(mp4, 'r+b').read()\n",
        "        encoded = base64.b64encode(video)\n",
        "        ipythondisplay.display(HTML(data='''<video alt=\"test\" autoplay \n",
        "                    loop controls style=\"height: 400px;\">\n",
        "                    <source src=\"data:video/mp4;base64,{0}\" type=\"video/mp4\" />\n",
        "                    </video>'''.format(encoded.decode('ascii'))))\n",
        "    else: \n",
        "        print(\"Could not find video\")"
      ]
    },
    {
      "cell_type": "code",
      "execution_count": 3,
      "metadata": {
        "id": "Go12dH4qbwBy"
      },
      "outputs": [],
      "source": [
        "env = gym.make(\"CartPole-v1\")"
      ]
    },
    {
      "cell_type": "markdown",
      "metadata": {
        "id": "2oIzK9SzhlWN"
      },
      "source": [
        "## Task 1: Development of an RL agent"
      ]
    },
    {
      "cell_type": "markdown",
      "metadata": {
        "id": "wwcggrOT7ckM"
      },
      "source": [
        "We can develop an RL agent using q-learning:"
      ]
    },
    {
      "cell_type": "markdown",
      "metadata": {
        "id": "qOwUogo88TMM"
      },
      "source": [
        "In q learning, we first have to define the possible states of the environment with a Q table of bins.\n",
        "We initialise the q table with zeroes, 30 bins each for cart position & velocity, 50 bins each for pole position & pole angular velocity to classify each state. Each corresponding state holds 2 values which represents the Q score for each action following this state.\n"
      ]
    },
    {
      "cell_type": "code",
      "execution_count": 11,
      "metadata": {
        "id": "0OxBMxlS8ehz"
      },
      "outputs": [],
      "source": [
        "#observation space min [-4.8000002e+00, -3.4028235e+38, -4.1887903e-01, -3.4028235e+38]\n",
        "#observation space max [4.8000002e+00, 3.4028235e+38, 4.1887903e-01, 3.4028235e+38]\n",
        "def QTable():\n",
        "\n",
        "    qTable = np.zeros(shape=([30, 30, 50, 50] + [2])) #bins and action table\n",
        "    \n",
        "    return qTable"
      ]
    },
    {
      "cell_type": "markdown",
      "metadata": {
        "id": "qIkT1-K6SQdL"
      },
      "source": [
        "With our Q table defined, we are able to check for the state in the table given an observation. However, as Q table is defined and accessed by discrete states, we need to discretise the continuous range of the 4 environment vairables. We design the function checkState() to achieve this, where a transformation is applied by first scaling and then adding a constant. "
      ]
    },
    {
      "cell_type": "code",
      "execution_count": 16,
      "metadata": {
        "id": "e5Q9VAdQbNh-"
      },
      "outputs": [],
      "source": [
        "def checkState(state):\n",
        "    discrete_state = state/np.array([0.25, 0.25, 0.01, 0.1])+ np.array([15,10,1,10]) #apply scaling factor and then vertical translation\n",
        "    return tuple(discrete_state.astype(int)) #convert into integer"
      ]
    },
    {
      "cell_type": "markdown",
      "metadata": {
        "id": "SSSlH536SjuR"
      },
      "source": [
        "With state checking and QTable, we can implement the Q-Learning algorithm. We implemented an epsilon-decay mechanism to encourage the agent to follow the learned policy as the number of episodes increases. A minimum epsilon = 0.05 was set to still allow a very small amount of exploration towards the end of training."
      ]
    },
    {
      "cell_type": "code",
      "execution_count": 15,
      "metadata": {
        "colab": {
          "base_uri": "https://localhost:8080/"
        },
        "id": "BQInA1oOSF8M",
        "outputId": "3c2698d9-d855-4114-c993-cdc0256b83dc"
      },
      "outputs": [
        {
          "output_type": "stream",
          "name": "stdout",
          "text": [
            "episode number: 1000\n",
            "mean reward: 20.783\n",
            "\n",
            "\n",
            "episode number: 2000\n",
            "mean reward: 21.222\n",
            "\n",
            "\n",
            "episode number: 3000\n",
            "mean reward: 21.288\n",
            "\n",
            "\n",
            "episode number: 4000\n",
            "mean reward: 20.933\n",
            "\n",
            "\n",
            "episode number: 5000\n",
            "mean reward: 21.577\n",
            "\n",
            "\n",
            "episode number: 6000\n",
            "mean reward: 21.36\n",
            "\n",
            "\n",
            "episode number: 7000\n",
            "mean reward: 21.17\n",
            "\n",
            "\n",
            "episode number: 8000\n",
            "mean reward: 21.427\n",
            "\n",
            "\n",
            "episode number: 9000\n",
            "mean reward: 21.147\n",
            "\n",
            "\n",
            "episode number: 10000\n",
            "mean reward: 21.132\n",
            "\n",
            "\n",
            "episode number: 11000\n",
            "mean reward: 130.185\n",
            "\n",
            "\n",
            "episode number: 12000\n",
            "mean reward: 206.445\n",
            "\n",
            "\n",
            "episode number: 13000\n",
            "mean reward: 200.672\n",
            "\n",
            "\n",
            "episode number: 14000\n",
            "mean reward: 184.197\n",
            "\n",
            "\n",
            "episode number: 15000\n",
            "mean reward: 217.444\n",
            "\n",
            "\n",
            "episode number: 16000\n",
            "mean reward: 220.888\n",
            "\n",
            "\n",
            "episode number: 17000\n",
            "mean reward: 250.336\n",
            "\n",
            "\n",
            "episode number: 18000\n",
            "mean reward: 220.977\n",
            "\n",
            "\n",
            "episode number: 19000\n",
            "mean reward: 232.895\n",
            "\n",
            "\n",
            "episode number: 20000\n",
            "mean reward: 235.923\n",
            "\n",
            "\n",
            "episode number: 21000\n",
            "mean reward: 219.477\n",
            "\n",
            "\n",
            "episode number: 22000\n",
            "mean reward: 253.573\n",
            "\n",
            "\n",
            "episode number: 23000\n",
            "mean reward: 238.895\n",
            "\n",
            "\n",
            "episode number: 24000\n",
            "mean reward: 214.409\n",
            "\n",
            "\n",
            "episode number: 25000\n",
            "mean reward: 222.761\n",
            "\n",
            "\n",
            "episode number: 26000\n",
            "mean reward: 253.32\n",
            "\n",
            "\n",
            "episode number: 27000\n",
            "mean reward: 231.201\n",
            "\n",
            "\n",
            "episode number: 28000\n",
            "mean reward: 213.489\n",
            "\n",
            "\n",
            "episode number: 29000\n",
            "mean reward: 251.694\n",
            "\n",
            "\n",
            "episode number: 30000\n",
            "mean reward: 216.211\n",
            "\n",
            "\n",
            "episode number: 31000\n",
            "mean reward: 206.756\n",
            "\n",
            "\n",
            "episode number: 32000\n",
            "mean reward: 248.175\n",
            "\n",
            "\n",
            "episode number: 33000\n",
            "mean reward: 242.515\n",
            "\n",
            "\n",
            "episode number: 34000\n",
            "mean reward: 237.169\n",
            "\n",
            "\n",
            "episode number: 35000\n",
            "mean reward: 251.458\n",
            "\n",
            "\n",
            "episode number: 36000\n",
            "mean reward: 236.35\n",
            "\n",
            "\n",
            "episode number: 37000\n",
            "mean reward: 210.089\n",
            "\n",
            "\n",
            "episode number: 38000\n",
            "mean reward: 239.668\n",
            "\n",
            "\n",
            "episode number: 39000\n",
            "mean reward: 226.099\n",
            "\n",
            "\n",
            "episode number: 40000\n",
            "mean reward: 243.07\n",
            "\n",
            "\n",
            "episode number: 41000\n",
            "mean reward: 208.934\n",
            "\n",
            "\n",
            "episode number: 42000\n",
            "mean reward: 209.995\n",
            "\n",
            "\n",
            "episode number: 43000\n",
            "mean reward: 205.93\n",
            "\n",
            "\n",
            "episode number: 44000\n",
            "mean reward: 271.048\n",
            "\n",
            "\n",
            "episode number: 45000\n",
            "mean reward: 229.919\n",
            "\n",
            "\n",
            "episode number: 46000\n",
            "mean reward: 278.929\n",
            "\n",
            "\n",
            "episode number: 47000\n",
            "mean reward: 244.827\n",
            "\n",
            "\n",
            "episode number: 48000\n",
            "mean reward: 251.874\n",
            "\n",
            "\n",
            "episode number: 49000\n",
            "mean reward: 287.731\n",
            "\n",
            "\n",
            "episode number: 50000\n",
            "mean reward: 273.016\n",
            "\n",
            "\n",
            "episode number: 51000\n",
            "mean reward: 274.798\n",
            "\n",
            "\n",
            "episode number: 52000\n",
            "mean reward: 229.556\n",
            "\n",
            "\n",
            "episode number: 53000\n",
            "mean reward: 331.531\n",
            "\n",
            "\n",
            "episode number: 54000\n",
            "mean reward: 293.274\n",
            "\n",
            "\n",
            "episode number: 55000\n",
            "mean reward: 291.137\n",
            "\n",
            "\n",
            "episode number: 56000\n",
            "mean reward: 317.578\n",
            "\n",
            "\n",
            "episode number: 57000\n",
            "mean reward: 303.814\n",
            "\n",
            "\n",
            "episode number: 58000\n",
            "mean reward: 338.01\n",
            "\n",
            "\n",
            "episode number: 59000\n",
            "mean reward: 302.835\n",
            "\n",
            "\n",
            "episode number: 60000\n",
            "mean reward: 313.021\n",
            "\n",
            "\n"
          ]
        }
      ],
      "source": [
        "qTable = QTable() #initialise qtable\n",
        "\n",
        "alpha = 0.1 #learning rate\n",
        "discount = 0.95\n",
        "updateStep = 100  #Frequency of recording\n",
        "epsilon = 1\n",
        "epsilonDecayRate = 0.99\n",
        "\n",
        "countHist = [] #track learning progress\n",
        "totalReward = 0\n",
        "priorReward = 0\n",
        "\n",
        "for i in range (1, 60001): #number of episodes\n",
        "    thisState = checkState(env.reset()[0]) #initial state\n",
        "    ended = False \n",
        "    step = 0\n",
        "    episodeReward = 0\n",
        "\n",
        "    while not ended:\n",
        "        step += 1\n",
        "        if np.random.random() > epsilon:\n",
        "            action = np.argmax(qTable[thisState]) #get the greedy action\n",
        "    \n",
        "        else:\n",
        "            action = np.random.randint(0,2) #explore random action\n",
        "\n",
        "        newState, reward, ended, dummy = env.step(action) #take the action\n",
        "\n",
        "        newDiscState = checkState(newState) #get the new state's discrete version\n",
        "\n",
        "        if not ended:\n",
        "            episodeReward += 1\n",
        "            futureQ = np.max(qTable[newDiscState]) #est future Q value\n",
        "            curQ = qTable[thisState + (action, )] #current Q value\n",
        "            newQ = (1-alpha) * curQ + alpha * (reward + discount * futureQ) #calculate new Q\n",
        "            qTable[thisState + (action, )] = newQ #update Q table with new Q value \n",
        "   \n",
        " \n",
        "        thisState = newDiscState #update state\n",
        " \n",
        " \n",
        "\n",
        "    if epsilon > 0.05: #epsilon decay modification \n",
        "        if episodeReward > priorReward and i > 10000:\n",
        "            epsilon = epsilon * epsilonDecayRate\n",
        " \n",
        "    else: epsilon = 0.05 #minimum epsilon to maintain some exploration \n",
        " \n",
        "    totalReward += episodeReward\n",
        "    priorReward = episodeReward\n",
        "\n",
        "\n",
        "    if i%1000==0: #check learning progress every 1k episodes\n",
        "        print(\"episode number: \" + str(i))\n",
        "        print(\"mean reward: \" + str(totalReward/1000))\n",
        "        print(\"\\n\")\n",
        "        totalReward = 0\n"
      ]
    },
    {
      "cell_type": "markdown",
      "source": [
        "##Demonstration of correctness"
      ],
      "metadata": {
        "id": "t0q8A9MMEBmg"
      }
    },
    {
      "cell_type": "markdown",
      "source": [
        "To show our implementation is correct, we will sample a random state from the environment for the agent to act on."
      ],
      "metadata": {
        "id": "HW10oZwPEGv8"
      }
    },
    {
      "cell_type": "code",
      "source": [
        "sampleState = env.reset()\n",
        "print(\"The sample state: \" + str(sampleState))\n",
        "sampleDiscrete = checkState(sampleState)\n",
        "action = np.argmax(qTable[sampleDiscrete])\n",
        "print(\"Agent's chosen action: \" + str(action))\n"
      ],
      "metadata": {
        "colab": {
          "base_uri": "https://localhost:8080/"
        },
        "id": "Oofw3s1-EZUj",
        "outputId": "401fcaf4-7884-4314-93d7-159b2891292d"
      },
      "execution_count": 39,
      "outputs": [
        {
          "output_type": "stream",
          "name": "stdout",
          "text": [
            "The sample state: [-0.01469874 -0.01659247  0.00051532 -0.02168612]\n",
            "Agent's chosen action: 0\n"
          ]
        }
      ]
    },
    {
      "cell_type": "markdown",
      "metadata": {
        "id": "-XtIQ0Rti1gm"
      },
      "source": [
        "## Task 2: Demonstrate the effectiveness of the RL agent"
      ]
    },
    {
      "cell_type": "markdown",
      "metadata": {
        "id": "djBEShf0kGI4"
      },
      "source": [
        "For this task, we use the agent developed in Task 1 to play the game for 100 episodes, record and plot the cumulative reward for each round."
      ]
    },
    {
      "cell_type": "code",
      "execution_count": 40,
      "metadata": {
        "colab": {
          "base_uri": "https://localhost:8080/"
        },
        "id": "9bUZCnAYkj06",
        "outputId": "e5bb880d-acb2-4a35-8b62-4ee137cd6fd5"
      },
      "outputs": [
        {
          "output_type": "stream",
          "name": "stdout",
          "text": [
            "[500, 500, 500, 500, 500, 500, 500, 500, 500, 500, 500, 500, 500, 500, 319, 500, 500, 500, 500, 306, 500, 500, 287, 500, 472, 500, 500, 500, 500, 500, 500, 147, 500, 500, 500, 338, 500, 500, 500, 500, 305, 500, 240, 500, 500, 500, 500, 500, 500, 500, 500, 500, 500, 500, 225, 500, 500, 500, 500, 500, 500, 500, 500, 500, 500, 500, 238, 500, 500, 500, 500, 500, 500, 500, 500, 500, 323, 500, 303, 500, 500, 500, 500, 500, 500, 500, 500, 500, 500, 500, 500, 239, 268, 500, 500, 154, 255, 500, 500, 500]\n"
          ]
        }
      ],
      "source": [
        "episodeHist = []\n",
        "\n",
        "for i in range(0,100):\n",
        "    state = env.reset()[0]\n",
        "    count = 0\n",
        "    done = False\n",
        "    cumulativeReward = 0\n",
        "\n",
        "    while not done:\n",
        "        cumulativeReward += 1\n",
        "        discState = checkState(state)\n",
        "        action = np.argmax(qTable[discState])\n",
        "        state, reward, done, dummy = env.step(action)\n",
        "  \n",
        "    episodeHist.append(cumulativeReward) \n",
        "\n",
        "print(episodeHist)"
      ]
    },
    {
      "cell_type": "code",
      "execution_count": 41,
      "metadata": {
        "colab": {
          "base_uri": "https://localhost:8080/",
          "height": 295
        },
        "id": "RZrCKywQi6CE",
        "outputId": "d11e0ff2-ea0b-43ed-c493-f1456b633829"
      },
      "outputs": [
        {
          "output_type": "display_data",
          "data": {
            "text/plain": [
              "<Figure size 432x288 with 1 Axes>"
            ],
            "image/png": "[encoded data removed]"
          },
          "metadata": {
            "needs_background": "light"
          }
        }
      ],
      "source": [
        "episode_results = episodeHist\n",
        "plt.plot(episode_results)\n",
        "plt.title('Cumulative reward for each episode')\n",
        "plt.ylabel('Cumulative reward')\n",
        "plt.xlabel('episode')\n",
        "plt.show()"
      ]
    },
    {
      "cell_type": "markdown",
      "metadata": {
        "id": "XndSYH7wlvn7"
      },
      "source": [
        "Print the average reward over the 100 episodes."
      ]
    },
    {
      "cell_type": "code",
      "execution_count": 42,
      "metadata": {
        "colab": {
          "base_uri": "https://localhost:8080/"
        },
        "id": "pOiOp9OYlo5Y",
        "outputId": "47330479-9de7-400c-cffa-677448229d0a"
      },
      "outputs": [
        {
          "output_type": "stream",
          "name": "stdout",
          "text": [
            "Average cumulative reward: 464.19\n",
            "Is my agent good enough? True\n",
            "Episodes with Reward > 195:  98\n"
          ]
        }
      ],
      "source": [
        "resultsArray = np.array(episode_results)\n",
        "count = resultsArray > 195\n",
        "\n",
        "print(\"Average cumulative reward:\", resultsArray.mean())\n",
        "print(\"Is my agent good enough?\", resultsArray.mean() > 195)\n",
        "print(\"Episodes with Reward > 195: \", len(resultsArray[count]))\n"
      ]
    },
    {
      "cell_type": "markdown",
      "source": [],
      "metadata": {
        "id": "W0NIKwSXC90Q"
      }
    },
    {
      "cell_type": "markdown",
      "metadata": {
        "id": "Yg0DCT38lFA6"
      },
      "source": [
        "## Task 3: Render one episode played by the agent"
      ]
    },
    {
      "cell_type": "markdown",
      "metadata": {
        "id": "vx1awMr9lc_w"
      },
      "source": [
        "Plug your agent to the code below to obtain rendered result."
      ]
    },
    {
      "cell_type": "code",
      "execution_count": 20,
      "metadata": {
        "colab": {
          "base_uri": "https://localhost:8080/",
          "height": 439
        },
        "id": "LYyavfbIa47D",
        "outputId": "727466aa-2873-4f97-9c1d-27c956df535d"
      },
      "outputs": [
        {
          "output_type": "display_data",
          "data": {
            "text/plain": [
              "<IPython.core.display.HTML object>"
            ],
            "text/html": [
              "<video alt=\"test\" autoplay \n",
              "                    loop controls style=\"height: 400px;\">\n",
              "                    <source src=\"data:video/mp4;base64,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\" type=\"video/mp4\" />\n",
              "                    </video>"
            ]
          },
          "metadata": {}
        },
        {
          "output_type": "stream",
          "name": "stdout",
          "text": [
            "Reward for this round:500\n"
          ]
        }
      ],
      "source": [
        "env = RecordVideo(gym.make(\"CartPole-v1\"), \"./video\")\n",
        "observation = env.reset()[0]\n",
        "cumulativeReward = 0\n",
        "while True:\n",
        "    env.render()\n",
        "    discState = checkState(observation)\n",
        "    action = np.argmax(qTable[discState])\n",
        "    observation, reward, done, info = env.step(action)\n",
        "    cumulativeReward += 1\n",
        "    if done: \n",
        "        break;    \n",
        "env.close()\n",
        "show_video()\n",
        "print(\"Reward for this round:\" + str(cumulativeReward))"
      ]
    }
  ],
  "metadata": {
    "colab": {
      "provenance": [],
      "include_colab_link": true
    },
    "kernelspec": {
      "display_name": "Python 3",
      "language": "python",
      "name": "python3"
    },
    "language_info": {
      "codemirror_mode": {
        "name": "ipython",
        "version": 3
      },
      "file_extension": ".py",
      "mimetype": "text/x-python",
      "name": "python",
      "nbconvert_exporter": "python",
      "pygments_lexer": "ipython3",
      "version": "3.8.8"
    }
  },
  "nbformat": 4,
  "nbformat_minor": 0
}